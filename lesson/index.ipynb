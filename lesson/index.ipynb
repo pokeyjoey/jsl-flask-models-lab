{
 "cells": [
  {
   "cell_type": "markdown",
   "id": "5a091ae7-18cc-4d7f-a569-5aac0e60516b",
   "metadata": {},
   "source": [
    "# Flask With Models Lab"
   ]
  },
  {
   "cell_type": "markdown",
   "id": "f62ecc23-eee8-4634-a450-3e5abfeeadad",
   "metadata": {},
   "source": [
    "### Introduction"
   ]
  },
  {
   "cell_type": "markdown",
   "id": "32edee74-9b2e-4d7e-92d9-b3b1bef5c5fe",
   "metadata": {},
   "source": [
    "In this lesson, we'll set up a flask app that connects to our database and to our models."
   ]
  },
  {
   "cell_type": "markdown",
   "id": "7fd6e2ec-c614-4125-b24f-517b236b4af8",
   "metadata": {},
   "source": [
    "### Initial Steps"
   ]
  },
  {
   "cell_type": "markdown",
   "id": "9b3188e4-7365-49af-8992-7a3219952669",
   "metadata": {},
   "source": [
    "You can begin by installing the necessary files by running `python3 install -r requirements.txt`."
   ]
  },
  {
   "cell_type": "markdown",
   "id": "8092766d-8653-4f46-86fa-019b837e9fe2",
   "metadata": {},
   "source": [
    "Then create a database by logging into postgres and creating a database called `foursquare_development`.  Then you can create the tables for the  database by running the `migrations/create_tables.sql` file.\n",
    "\n",
    "> Remember that we can run the file without logging into postgres with the `psql -d -U` and `-f` flags. \n",
    "\n",
    "Then load some data by running the `seed.py` file.  You can do so by simply running `python3 seed.py`."
   ]
  },
  {
   "cell_type": "markdown",
   "id": "01b321f6-c691-45c1-adb2-b3e5bde852c7",
   "metadata": {},
   "source": [
    "From there, confirm that the data was properly loaded by logging into our foursquare development database and selecting from the `venues` table as well as the `categories` table."
   ]
  },
  {
   "cell_type": "markdown",
   "id": "68205fb6-4bc3-4666-8819-d10ba74aac94",
   "metadata": {},
   "source": [
    "### Setting up our Routes"
   ]
  },
  {
   "cell_type": "markdown",
   "id": "eee92637-f8bd-4bfc-bc11-229018dc6153",
   "metadata": {},
   "source": [
    "Now add routes the simply query the database and return the records returned.  You can see the flask app in the `main.py` file.  Run the `main.py` file to begin running the server.\n",
    "\n",
    "* Add routes for `/venues`, which returns a list of all of the venues"
   ]
  },
  {
   "cell_type": "markdown",
   "id": "be0314a6-1016-41d9-a622-e88bb5d91d0a",
   "metadata": {},
   "source": [
    "<img src=\"./venues.png\" width=\"50%\">"
   ]
  },
  {
   "cell_type": "markdown",
   "id": "d69628eb-f3c4-4a8f-9779-7916aaf2c749",
   "metadata": {},
   "source": [
    "* Add routes for `venue/id`, which shows just venue with the matching id.\n",
    "\n",
    "> In the psycopg2 library, we pass parameters into a query using the `%s` instead of a ?.  Look at the [following documentation](https://www.psycopg.org/psycopg3/docs/basic/params.html) for more details."
   ]
  },
  {
   "cell_type": "markdown",
   "id": "e316cd90-de06-4bbf-bb74-889a3330b0b6",
   "metadata": {},
   "source": [
    "<img src=\"./venue-result.png\" width=\"50%\">"
   ]
  },
  {
   "cell_type": "markdown",
   "id": "7dec9f17-31ae-4dac-80df-f248b12831c4",
   "metadata": {},
   "source": [
    "Add the equivalent routes for displaying all categories and a single category specified by the id."
   ]
  },
  {
   "cell_type": "markdown",
   "id": "5d112e19-78f2-498d-bd14-17ad5a21f299",
   "metadata": {},
   "source": [
    "### Adding models"
   ]
  },
  {
   "cell_type": "markdown",
   "id": "a5d49993-8c27-48ab-9ead-092cf95d63e7",
   "metadata": {},
   "source": [
    "Ok, now let's connect our models to the codebase.  \n",
    "\n",
    "For each record pulled from the database in our routes, we would like to initialize an object of the related model.  Then from the API we would like to return a dictionary of each instances attributes."
   ]
  },
  {
   "cell_type": "markdown",
   "id": "0f4b2084-008f-4b74-847a-325d6ec55c6f",
   "metadata": {},
   "source": [
    "Start with the Venue class looking like the following:"
   ]
  },
  {
   "cell_type": "markdown",
   "id": "16c447cd-9979-4bfb-8071-0d89730c7b75",
   "metadata": {},
   "source": [
    "```python\n",
    "class Venue():\n",
    "    __table__ = 'venues'\n",
    "    columns = ['id', 'foursquare_id', 'name', 'price',\n",
    "            'rating', 'likes', 'menu_url']\n",
    "\n",
    "    def __init__(self, values):\n",
    "        self.__dict__ = None\n",
    "```"
   ]
  },
  {
   "cell_type": "markdown",
   "id": "3d93b0e9-bd24-42b4-8cc6-f3d4640b5542",
   "metadata": {},
   "source": [
    "And the Category class looking like the following:"
   ]
  },
  {
   "cell_type": "markdown",
   "id": "406abd49-8e21-48ef-b49e-98c4bafa45bf",
   "metadata": {},
   "source": [
    "```python\n",
    "class Category:\n",
    "    __table__ = 'categories'\n",
    "    columns = ['id', 'name']\n",
    "    def __init__(self, values):\n",
    "        self.__dict__ = None\n",
    "```"
   ]
  },
  {
   "cell_type": "markdown",
   "id": "89d723ee-95cd-48af-b0ab-a204df65ef94",
   "metadata": {},
   "source": [
    "We would like to be able to initialize venue with a list of values, and for it to set the corresponding attributes of the venue.  And accomplish the same for categories.\n",
    "\n"
   ]
  },
  {
   "cell_type": "markdown",
   "id": "99e2dadc-9a85-4d97-906e-0ea118ab0797",
   "metadata": {},
   "source": [
    "Each endpoint from the API should ultimately return the attributes of each object in the form of a dictionary (really a JSON object).  For example, from the venues endpoint the following should be returned."
   ]
  },
  {
   "cell_type": "markdown",
   "id": "7ea8301d-9cd5-41a1-879f-49f7b7a907fb",
   "metadata": {},
   "source": [
    "<img src=\"./venue-json.png\" width=\"40%\">"
   ]
  },
  {
   "cell_type": "markdown",
   "id": "5b4c70e7-b954-40cf-9356-918e86ba36ea",
   "metadata": {},
   "source": [
    "And from the `venues/id` endpoint, we should get the following:"
   ]
  },
  {
   "cell_type": "markdown",
   "id": "711d6e3a-6098-4d03-9f43-cccfaba9f83a",
   "metadata": {},
   "source": [
    "<img src=\"./single-obj.png\" width=\"40%\">"
   ]
  },
  {
   "cell_type": "markdown",
   "id": "dd14d2a5-ea3d-4d3e-a5e8-c8a609b67031",
   "metadata": {},
   "source": [
    "Add the corresponding endpoints for `/categories` and `/categories/id`."
   ]
  },
  {
   "cell_type": "markdown",
   "id": "6d898ab1-3ffe-40ce-96b2-5a73ca047454",
   "metadata": {},
   "source": [
    "### Bonus"
   ]
  },
  {
   "cell_type": "markdown",
   "id": "b256f0f5-76a8-4dc1-8532-715ee598f989",
   "metadata": {},
   "source": [
    "As a bonus begin to look at the `orm.py` and `db.py` files and see how they can be helpful or used in the existing code."
   ]
  }
 ],
 "metadata": {
  "kernelspec": {
   "display_name": "Python 3 (ipykernel)",
   "language": "python",
   "name": "python3"
  },
  "language_info": {
   "codemirror_mode": {
    "name": "ipython",
    "version": 3
   },
   "file_extension": ".py",
   "mimetype": "text/x-python",
   "name": "python",
   "nbconvert_exporter": "python",
   "pygments_lexer": "ipython3",
   "version": "3.9.7"
  }
 },
 "nbformat": 4,
 "nbformat_minor": 5
}
